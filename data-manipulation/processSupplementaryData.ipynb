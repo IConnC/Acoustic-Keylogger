{
 "cells": [
  {
   "cell_type": "code",
   "execution_count": 22,
   "metadata": {},
   "outputs": [],
   "source": [
    "import tensorflow as tf\n",
    "import os\n",
    "from datetime import datetime"
   ]
  },
  {
   "cell_type": "code",
   "execution_count": 23,
   "metadata": {},
   "outputs": [],
   "source": [
    "gpus = tf.config.experimental.list_physical_devices('GPU')\n",
    "tf.config.experimental.set_visible_devices(gpus[1], 'GPU')\n",
    "tf.config.experimental.set_memory_growth(gpus[1], True)\n",
    "\n",
    "AUTOTUNE = tf.data.AUTOTUNE"
   ]
  },
  {
   "cell_type": "code",
   "execution_count": 24,
   "metadata": {},
   "outputs": [],
   "source": [
    "INPUT_AUDIO_DIR = os.path.dirname(os.getcwd()) + \"/data-manipulation/input/audio/\"\n",
    "INPUT_META_DIR = os.path.dirname(os.getcwd()) + \"/data-manipulation/input/metadata/\"\n",
    "\n",
    "if not os.path.exists(INPUT_AUDIO_DIR):\n",
    "    os.makedirs(INPUT_AUDIO_DIR)\n",
    "if not os.path.exists(INPUT_META_DIR):\n",
    "    os.makedirs(INPUT_META_DIR)"
   ]
  },
  {
   "cell_type": "markdown",
   "metadata": {},
   "source": [
    "## Define functions"
   ]
  },
  {
   "cell_type": "code",
   "execution_count": 25,
   "metadata": {},
   "outputs": [],
   "source": [
    "def split_into_windows(waveform, frame_length=2205, frame_step=1102): # 50ms windows with 50% overlap\n",
    "    print(\"Waveform shape before framing:\", waveform.shape)\n",
    "    frames = tf.signal.frame(waveform, frame_length=frame_length, frame_step=frame_step)\n",
    "    print(\"Frames shape after framing (with overlap):\", frames.shape)\n",
    "    return frames\n",
    "\n",
    "def split_into_sequences(frames, sequence_length=3):\n",
    "    num_frames = tf.shape(frames)[0]\n",
    "    sequence_step = 1\n",
    "    start_indices = tf.range(0, num_frames - sequence_length + 1, sequence_step)\n",
    "    sequences = tf.map_fn(\n",
    "        lambda start: frames[start:start + sequence_length],\n",
    "        start_indices,\n",
    "        fn_output_signature=tf.TensorSpec(shape=(sequence_length, frames.shape[1]), dtype=frames.dtype)\n",
    "    )\n",
    "    print(\"Frames grouped into sequences:\", sequences.shape)\n",
    "    return sequences"
   ]
  },
  {
   "cell_type": "code",
   "execution_count": null,
   "metadata": {},
   "outputs": [
    {
     "name": "stdout",
     "output_type": "stream",
     "text": [
      "[{'key': 'a', 'time': datetime.datetime(2024, 12, 1, 16, 23, 25, 747109)}, {'key': 'b', 'time': datetime.datetime(2024, 12, 1, 16, 23, 26, 362888)}, {'key': 'c', 'time': datetime.datetime(2024, 12, 1, 16, 23, 26, 891134)}, {'key': 'd', 'time': datetime.datetime(2024, 12, 1, 16, 23, 27, 507704)}, {'key': 'e', 'time': datetime.datetime(2024, 12, 1, 16, 23, 27, 971362)}, {'key': 'f', 'time': datetime.datetime(2024, 12, 1, 16, 23, 28, 467856)}, {'key': 'g', 'time': datetime.datetime(2024, 12, 1, 16, 23, 29, 106957)}, {'key': 'h', 'time': datetime.datetime(2024, 12, 1, 16, 23, 30, 27894)}, {'key': 'i', 'time': datetime.datetime(2024, 12, 1, 16, 23, 30, 515035)}, {'key': 'j', 'time': datetime.datetime(2024, 12, 1, 16, 23, 30, 955257)}, {'key': 'k', 'time': datetime.datetime(2024, 12, 1, 16, 23, 31, 347058)}, {'key': 'l', 'time': datetime.datetime(2024, 12, 1, 16, 23, 31, 715748)}, {'key': 'm', 'time': datetime.datetime(2024, 12, 1, 16, 23, 32, 43640)}, {'key': 'n', 'time': datetime.datetime(2024, 12, 1, 16, 23, 32, 363406)}, {'key': 'o', 'time': datetime.datetime(2024, 12, 1, 16, 23, 32, 682996)}, {'key': 'p', 'time': datetime.datetime(2024, 12, 1, 16, 23, 32, 931389)}, {'key': 'q', 'time': datetime.datetime(2024, 12, 1, 16, 23, 33, 331945)}, {'key': 'r', 'time': datetime.datetime(2024, 12, 1, 16, 23, 33, 691822)}, {'key': 's', 'time': datetime.datetime(2024, 12, 1, 16, 23, 34, 3745)}, {'key': 't', 'time': datetime.datetime(2024, 12, 1, 16, 23, 34, 491807)}, {'key': 'u', 'time': datetime.datetime(2024, 12, 1, 16, 23, 34, 691564)}, {'key': 'v', 'time': datetime.datetime(2024, 12, 1, 16, 23, 34, 955453)}, {'key': 'w', 'time': datetime.datetime(2024, 12, 1, 16, 23, 35, 507569)}, {'key': 'x', 'time': datetime.datetime(2024, 12, 1, 16, 23, 36, 19686)}, {'key': 'y', 'time': datetime.datetime(2024, 12, 1, 16, 23, 36, 811385)}, {'key': 'z', 'time': datetime.datetime(2024, 12, 1, 16, 23, 37, 27646)}, {'key': 'Lshift', 'time': datetime.datetime(2024, 12, 1, 16, 23, 38, 219309)}, {'key': 'h', 'time': datetime.datetime(2024, 12, 1, 16, 23, 38, 603530)}, {'key': 'e', 'time': datetime.datetime(2024, 12, 1, 16, 23, 38, 787030)}, {'key': 'l', 'time': datetime.datetime(2024, 12, 1, 16, 23, 38, 891046)}, {'key': 'l', 'time': datetime.datetime(2024, 12, 1, 16, 23, 39, 35738)}, {'key': 'o', 'time': datetime.datetime(2024, 12, 1, 16, 23, 39, 179031)}, {'key': 'space', 'time': datetime.datetime(2024, 12, 1, 16, 23, 39, 275879)}, {'key': 'f', 'time': datetime.datetime(2024, 12, 1, 16, 23, 39, 347741)}, {'key': 'r', 'time': datetime.datetime(2024, 12, 1, 16, 23, 39, 491807)}, {'key': 'o', 'time': datetime.datetime(2024, 12, 1, 16, 23, 39, 579255)}, {'key': 'm', 'time': datetime.datetime(2024, 12, 1, 16, 23, 39, 731764)}, {'key': 'space', 'time': datetime.datetime(2024, 12, 1, 16, 23, 39, 875839)}, {'key': 't', 'time': datetime.datetime(2024, 12, 1, 16, 23, 40, 187933)}, {'key': 'h', 'time': datetime.datetime(2024, 12, 1, 16, 23, 40, 275955)}, {'key': 'e', 'time': datetime.datetime(2024, 12, 1, 16, 23, 40, 363894)}, {'key': 'space', 'time': datetime.datetime(2024, 12, 1, 16, 23, 40, 475755)}, {'key': 'o', 'time': datetime.datetime(2024, 12, 1, 16, 23, 40, 619622)}, {'key': 't', 'time': datetime.datetime(2024, 12, 1, 16, 23, 40, 779352)}, {'key': 'h', 'time': datetime.datetime(2024, 12, 1, 16, 23, 40, 859370)}, {'key': 'e', 'time': datetime.datetime(2024, 12, 1, 16, 23, 40, 907402)}, {'key': 'r', 'time': datetime.datetime(2024, 12, 1, 16, 23, 41, 3841)}, {'key': 'space', 'time': datetime.datetime(2024, 12, 1, 16, 23, 41, 107699)}, {'key': 's', 'time': datetime.datetime(2024, 12, 1, 16, 23, 41, 251360)}, {'key': 'i', 'time': datetime.datetime(2024, 12, 1, 16, 23, 41, 403479)}, {'key': 'z', 'time': datetime.datetime(2024, 12, 1, 16, 23, 41, 507339)}, {'key': 'e', 'time': datetime.datetime(2024, 12, 1, 16, 23, 41, 883138)}, {'key': 'space', 'time': datetime.datetime(2024, 12, 1, 16, 23, 42, 27223)}, {'key': 'o', 'time': datetime.datetime(2024, 12, 1, 16, 23, 42, 139513)}, {'key': 'k', 'time': datetime.datetime(2024, 12, 1, 16, 23, 42, 283547)}, {'key': 'a', 'time': datetime.datetime(2024, 12, 1, 16, 23, 42, 339551)}, {'key': 'y', 'time': datetime.datetime(2024, 12, 1, 16, 23, 42, 467864)}, {'key': 'Lshift', 'time': datetime.datetime(2024, 12, 1, 16, 23, 42, 603740)}, {'key': 'space', 'time': datetime.datetime(2024, 12, 1, 16, 23, 43, 499473)}, {'key': 'Lshift', 'time': datetime.datetime(2024, 12, 1, 16, 23, 43, 643087)}, {'key': 'i', 'time': datetime.datetime(2024, 12, 1, 16, 23, 43, 763802)}, {'key': 'space', 'time': datetime.datetime(2024, 12, 1, 16, 23, 43, 867827)}, {'key': 'w', 'time': datetime.datetime(2024, 12, 1, 16, 23, 43, 915883)}, {'key': 'a', 'time': datetime.datetime(2024, 12, 1, 16, 23, 44, 19500)}, {'key': 'n', 'time': datetime.datetime(2024, 12, 1, 16, 23, 44, 115532)}, {'key': 't', 'time': datetime.datetime(2024, 12, 1, 16, 23, 44, 211545)}, {'key': 'space', 'time': datetime.datetime(2024, 12, 1, 16, 23, 44, 307102)}, {'key': 't', 'time': datetime.datetime(2024, 12, 1, 16, 23, 44, 403751)}, {'key': 'y', 'time': datetime.datetime(2024, 12, 1, 16, 23, 44, 571249)}, {'key': 'backspace', 'time': datetime.datetime(2024, 12, 1, 16, 23, 44, 755544)}, {'key': 'backspace', 'time': datetime.datetime(2024, 12, 1, 16, 23, 44, 923251)}, {'key': 'y', 'time': datetime.datetime(2024, 12, 1, 16, 23, 45, 19129)}, {'key': 'o', 'time': datetime.datetime(2024, 12, 1, 16, 23, 45, 107546)}, {'key': 'u', 'time': datetime.datetime(2024, 12, 1, 16, 23, 45, 275837)}, {'key': 'space', 'time': datetime.datetime(2024, 12, 1, 16, 23, 45, 332267)}, {'key': 'n', 'time': datetime.datetime(2024, 12, 1, 16, 23, 45, 443432)}, {'key': 'o', 'time': datetime.datetime(2024, 12, 1, 16, 23, 45, 611420)}, {'key': 'w', 'time': datetime.datetime(2024, 12, 1, 16, 23, 45, 667958)}, {'key': 'space', 'time': datetime.datetime(2024, 12, 1, 16, 23, 45, 763123)}, {'key': 'b', 'time': datetime.datetime(2024, 12, 1, 16, 23, 46, 131669)}, {'key': 'b', 'time': datetime.datetime(2024, 12, 1, 16, 23, 46, 315214)}, {'key': 'g', 'time': datetime.datetime(2024, 12, 1, 16, 23, 46, 763864)}, {'key': 'y', 'time': datetime.datetime(2024, 12, 1, 16, 23, 47, 843667)}, {'key': 'o', 'time': datetime.datetime(2024, 12, 1, 16, 23, 47, 955966)}, {'key': 'u', 'time': datetime.datetime(2024, 12, 1, 16, 23, 48, 123238)}, {'key': 'space', 'time': datetime.datetime(2024, 12, 1, 16, 23, 48, 204257)}, {'key': 'a', 'time': datetime.datetime(2024, 12, 1, 16, 23, 48, 315743)}, {'key': 'r', 'time': datetime.datetime(2024, 12, 1, 16, 23, 48, 443608)}, {'key': 'e', 'time': datetime.datetime(2024, 12, 1, 16, 23, 48, 547241)}, {'key': 'space', 'time': datetime.datetime(2024, 12, 1, 16, 23, 48, 619525)}, {'key': 'p', 'time': datetime.datetime(2024, 12, 1, 16, 23, 48, 691169)}, {'key': 'r', 'time': datetime.datetime(2024, 12, 1, 16, 23, 48, 771712)}, {'key': 'e', 'time': datetime.datetime(2024, 12, 1, 16, 23, 48, 867460)}, {'key': 't', 'time': datetime.datetime(2024, 12, 1, 16, 23, 49, 43545)}, {'key': 't', 'time': datetime.datetime(2024, 12, 1, 16, 23, 49, 203583)}, {'key': 'y', 'time': datetime.datetime(2024, 12, 1, 16, 23, 49, 347536)}, {'key': 'space', 'time': datetime.datetime(2024, 12, 1, 16, 23, 49, 443183)}, {'key': 'c', 'time': datetime.datetime(2024, 12, 1, 16, 23, 49, 668031)}, {'key': 'o', 'time': datetime.datetime(2024, 12, 1, 16, 23, 49, 747867)}, {'key': 'o', 'time': datetime.datetime(2024, 12, 1, 16, 23, 49, 907905)}, {'key': 'l', 'time': datetime.datetime(2024, 12, 1, 16, 23, 50, 67334)}, {'key': 'space', 'time': datetime.datetime(2024, 12, 1, 16, 23, 50, 148353)}, {'key': 'l', 'time': datetime.datetime(2024, 12, 1, 16, 23, 50, 236418)}, {'key': 'o', 'time': datetime.datetime(2024, 12, 1, 16, 23, 50, 404136)}, {'key': 'o', 'time': datetime.datetime(2024, 12, 1, 16, 23, 50, 555465)}, {'key': 'k', 'time': datetime.datetime(2024, 12, 1, 16, 23, 50, 739516)}, {'key': 'i', 'time': datetime.datetime(2024, 12, 1, 16, 23, 50, 907565)}, {'key': 'n', 'time': datetime.datetime(2024, 12, 1, 16, 23, 51, 59294)}, {'key': 'g', 'time': datetime.datetime(2024, 12, 1, 16, 23, 51, 131728)}, {'key': 'space', 'time': datetime.datetime(2024, 12, 1, 16, 23, 51, 219749)}, {'key': 'a', 'time': datetime.datetime(2024, 12, 1, 16, 23, 51, 347854)}, {'key': 'n', 'time': datetime.datetime(2024, 12, 1, 16, 23, 51, 444086)}, {'key': 'd', 'time': datetime.datetime(2024, 12, 1, 16, 23, 51, 540360)}, {'key': 'space', 'time': datetime.datetime(2024, 12, 1, 16, 23, 51, 667926)}, {'key': 'Lshift', 'time': datetime.datetime(2024, 12, 1, 16, 23, 51, 748076)}, {'key': 'i', 'time': datetime.datetime(2024, 12, 1, 16, 23, 51, 828095)}, {'key': 'space', 'time': datetime.datetime(2024, 12, 1, 16, 23, 51, 932162)}, {'key': 'h', 'time': datetime.datetime(2024, 12, 1, 16, 23, 52, 507301)}, {'key': 'o', 'time': datetime.datetime(2024, 12, 1, 16, 23, 52, 564316)}, {'key': 'p', 'time': datetime.datetime(2024, 12, 1, 16, 23, 52, 699649)}, {'key': 'e', 'time': datetime.datetime(2024, 12, 1, 16, 23, 52, 779662)}, {'key': 'space', 'time': datetime.datetime(2024, 12, 1, 16, 23, 52, 867890)}, {'key': 't', 'time': datetime.datetime(2024, 12, 1, 16, 23, 52, 939907)}, {'key': 'h', 'time': datetime.datetime(2024, 12, 1, 16, 23, 53, 3922)}, {'key': 'i', 'time': datetime.datetime(2024, 12, 1, 16, 23, 53, 155678)}, {'key': 's', 'time': datetime.datetime(2024, 12, 1, 16, 23, 53, 203679)}, {'key': 'space', 'time': datetime.datetime(2024, 12, 1, 16, 23, 53, 315957)}, {'key': 'p', 'time': datetime.datetime(2024, 12, 1, 16, 23, 53, 411813)}, {'key': 'r', 'time': datetime.datetime(2024, 12, 1, 16, 23, 53, 483248)}, {'key': 'o', 'time': datetime.datetime(2024, 12, 1, 16, 23, 53, 603903)}, {'key': 'j', 'time': datetime.datetime(2024, 12, 1, 16, 23, 53, 779819)}, {'key': 'e', 'time': datetime.datetime(2024, 12, 1, 16, 23, 53, 859838)}, {'key': 'c', 'time': datetime.datetime(2024, 12, 1, 16, 23, 53, 995330)}, {'key': 't', 'time': datetime.datetime(2024, 12, 1, 16, 23, 54, 147408)}, {'key': 'space', 'time': datetime.datetime(2024, 12, 1, 16, 23, 54, 243431)}, {'key': 'w', 'time': datetime.datetime(2024, 12, 1, 16, 23, 54, 307446)}, {'key': 'o', 'time': datetime.datetime(2024, 12, 1, 16, 23, 54, 379758)}, {'key': 'r', 'time': datetime.datetime(2024, 12, 1, 16, 23, 54, 452191)}, {'key': 'k', 'time': datetime.datetime(2024, 12, 1, 16, 23, 54, 539212)}, {'key': 's', 'time': datetime.datetime(2024, 12, 1, 16, 23, 54, 611271)}, {'key': 'space', 'time': datetime.datetime(2024, 12, 1, 16, 23, 54, 715362)}, {'key': 'a', 'time': datetime.datetime(2024, 12, 1, 16, 23, 54, 827200)}, {'key': 'p', 'time': datetime.datetime(2024, 12, 1, 16, 23, 54, 947228)}, {'key': 'p', 'time': datetime.datetime(2024, 12, 1, 16, 23, 55, 91574)}, {'key': 'r', 'time': datetime.datetime(2024, 12, 1, 16, 23, 55, 164198)}, {'key': 'o', 'time': datetime.datetime(2024, 12, 1, 16, 23, 55, 268062)}, {'key': 'i', 'time': datetime.datetime(2024, 12, 1, 16, 23, 55, 531890)}, {'key': 'backspace', 'time': datetime.datetime(2024, 12, 1, 16, 23, 55, 780037)}, {'key': 'p', 'time': datetime.datetime(2024, 12, 1, 16, 23, 55, 979646)}, {'key': 'r', 'time': datetime.datetime(2024, 12, 1, 16, 23, 56, 340190)}, {'key': 'i', 'time': datetime.datetime(2024, 12, 1, 16, 23, 56, 435215)}, {'key': 'a', 'time': datetime.datetime(2024, 12, 1, 16, 23, 56, 516234)}, {'key': 't', 'time': datetime.datetime(2024, 12, 1, 16, 23, 56, 612030)}, {'key': 'e', 'time': datetime.datetime(2024, 12, 1, 16, 23, 56, 723893)}, {'key': 'l', 'time': datetime.datetime(2024, 12, 1, 16, 23, 56, 859926)}, {'key': 'y', 'time': datetime.datetime(2024, 12, 1, 16, 23, 57, 12242)}, {'key': 'enter', 'time': datetime.datetime(2024, 12, 1, 16, 23, 57, 171372)}, {'key': 's', 'time': datetime.datetime(2024, 12, 1, 16, 24, 1, 667722)}, {'key': 'a', 'time': datetime.datetime(2024, 12, 1, 16, 24, 1, 924337)}, {'key': 'd', 'time': datetime.datetime(2024, 12, 1, 16, 24, 1, 987352)}, {'key': 's', 'time': datetime.datetime(2024, 12, 1, 16, 24, 2, 35363)}, {'key': 'a', 'time': datetime.datetime(2024, 12, 1, 16, 24, 2, 196111)}, {'key': 's', 'time': datetime.datetime(2024, 12, 1, 16, 24, 2, 267375)}, {'key': 'w', 'time': datetime.datetime(2024, 12, 1, 16, 24, 2, 523438)}, {'key': 'd', 'time': datetime.datetime(2024, 12, 1, 16, 24, 2, 684002)}, {'key': 's', 'time': datetime.datetime(2024, 12, 1, 16, 24, 2, 843569)}, {'key': 'a', 'time': datetime.datetime(2024, 12, 1, 16, 24, 2, 923588)}, {'key': 'w', 'time': datetime.datetime(2024, 12, 1, 16, 24, 3, 155643)}, {'key': 'd', 'time': datetime.datetime(2024, 12, 1, 16, 24, 3, 339972)}, {'key': 'd', 'time': datetime.datetime(2024, 12, 1, 16, 24, 3, 771511)}, {'key': 'f', 'time': datetime.datetime(2024, 12, 1, 16, 24, 4, 11947)}, {'key': 'd', 'time': datetime.datetime(2024, 12, 1, 16, 24, 4, 395530)}, {'key': '3', 'time': datetime.datetime(2024, 12, 1, 16, 24, 4, 699696)}, {'key': '3', 'time': datetime.datetime(2024, 12, 1, 16, 24, 5, 35320)}, {'key': '3', 'time': datetime.datetime(2024, 12, 1, 16, 24, 5, 235368)}, {'key': '3', 'time': datetime.datetime(2024, 12, 1, 16, 24, 5, 435749)}, {'key': '3', 'time': datetime.datetime(2024, 12, 1, 16, 24, 5, 595777)}, {'key': '2', 'time': datetime.datetime(2024, 12, 1, 16, 24, 5, 811389)}, {'key': '2', 'time': datetime.datetime(2024, 12, 1, 16, 24, 6, 11895)}, {'key': '1', 'time': datetime.datetime(2024, 12, 1, 16, 24, 6, 340258)}, {'key': '1', 'time': datetime.datetime(2024, 12, 1, 16, 24, 6, 515761)}, {'key': '1', 'time': datetime.datetime(2024, 12, 1, 16, 24, 6, 667315)}, {'key': '4', 'time': datetime.datetime(2024, 12, 1, 16, 24, 7, 148321)}, {'key': '5', 'time': datetime.datetime(2024, 12, 1, 16, 24, 7, 356232)}, {'key': '5', 'time': datetime.datetime(2024, 12, 1, 16, 24, 7, 508128)}, {'key': '6', 'time': datetime.datetime(2024, 12, 1, 16, 24, 7, 708257)}, {'key': '7', 'time': datetime.datetime(2024, 12, 1, 16, 24, 7, 900216)}, {'key': '7', 'time': datetime.datetime(2024, 12, 1, 16, 24, 8, 75598)}, {'key': '8', 'time': datetime.datetime(2024, 12, 1, 16, 24, 8, 268178)}, {'key': '8', 'time': datetime.datetime(2024, 12, 1, 16, 24, 8, 468048)}, {'key': '8', 'time': datetime.datetime(2024, 12, 1, 16, 24, 8, 651574)}, {'key': '8', 'time': datetime.datetime(2024, 12, 1, 16, 24, 8, 779431)}, {'key': '7', 'time': datetime.datetime(2024, 12, 1, 16, 24, 8, 972141)}, {'key': '6', 'time': datetime.datetime(2024, 12, 1, 16, 24, 9, 171655)}, {'key': '5', 'time': datetime.datetime(2024, 12, 1, 16, 24, 9, 539454)}, {'key': '5', 'time': datetime.datetime(2024, 12, 1, 16, 24, 9, 747583)}, {'key': '5', 'time': datetime.datetime(2024, 12, 1, 16, 24, 9, 939665)}, {'key': '4', 'time': datetime.datetime(2024, 12, 1, 16, 24, 10, 171806)}, {'key': '4', 'time': datetime.datetime(2024, 12, 1, 16, 24, 10, 347847)}, {'key': '4', 'time': datetime.datetime(2024, 12, 1, 16, 24, 10, 507603)}, {'key': '4', 'time': datetime.datetime(2024, 12, 1, 16, 24, 10, 715806)}, {'key': '3', 'time': datetime.datetime(2024, 12, 1, 16, 24, 10, 715806)}, {'key': '3', 'time': datetime.datetime(2024, 12, 1, 16, 24, 10, 899803)}, {'key': '3', 'time': datetime.datetime(2024, 12, 1, 16, 24, 11, 99540)}, {'key': '3', 'time': datetime.datetime(2024, 12, 1, 16, 24, 11, 283825)}, {'key': '2', 'time': datetime.datetime(2024, 12, 1, 16, 24, 11, 460127)}, {'key': '2', 'time': datetime.datetime(2024, 12, 1, 16, 24, 11, 660259)}, {'key': '2', 'time': datetime.datetime(2024, 12, 1, 16, 24, 12, 60023)}, {'key': '3', 'time': datetime.datetime(2024, 12, 1, 16, 24, 12, 403606)}, {'key': '4', 'time': datetime.datetime(2024, 12, 1, 16, 24, 12, 779476)}, {'key': '5', 'time': datetime.datetime(2024, 12, 1, 16, 24, 12, 787492)}, {'key': '5', 'time': datetime.datetime(2024, 12, 1, 16, 24, 13, 4211)}, {'key': '5', 'time': datetime.datetime(2024, 12, 1, 16, 24, 13, 188442)}, {'key': '5', 'time': datetime.datetime(2024, 12, 1, 16, 24, 13, 403493)}, {'key': '5', 'time': datetime.datetime(2024, 12, 1, 16, 24, 13, 604146)}, {'key': '5', 'time': datetime.datetime(2024, 12, 1, 16, 24, 13, 835872)}, {'key': '4', 'time': datetime.datetime(2024, 12, 1, 16, 24, 13, 987908)}, {'key': '4', 'time': datetime.datetime(2024, 12, 1, 16, 24, 14, 187434)}, {'key': '4', 'time': datetime.datetime(2024, 12, 1, 16, 24, 14, 380314)}, {'key': '4', 'time': datetime.datetime(2024, 12, 1, 16, 24, 14, 588096)}, {'key': '4', 'time': datetime.datetime(2024, 12, 1, 16, 24, 16, 4424)}, {'key': '4', 'time': datetime.datetime(2024, 12, 1, 16, 24, 16, 323474)}, {'key': '4', 'time': datetime.datetime(2024, 12, 1, 16, 24, 16, 595987)}, {'key': '4', 'time': datetime.datetime(2024, 12, 1, 16, 24, 16, 875773)}, {'key': '5', 'time': datetime.datetime(2024, 12, 1, 16, 24, 17, 188192)}, {'key': '5', 'time': datetime.datetime(2024, 12, 1, 16, 24, 17, 443856)}, {'key': '5', 'time': datetime.datetime(2024, 12, 1, 16, 24, 17, 707541)}, {'key': '5', 'time': datetime.datetime(2024, 12, 1, 16, 24, 17, 947781)}, {'key': '6', 'time': datetime.datetime(2024, 12, 1, 16, 24, 18, 211908)}, {'key': '6', 'time': datetime.datetime(2024, 12, 1, 16, 24, 18, 468059)}, {'key': '6', 'time': datetime.datetime(2024, 12, 1, 16, 24, 18, 748426)}, {'key': '6', 'time': datetime.datetime(2024, 12, 1, 16, 24, 18, 948108)}, {'key': '7', 'time': datetime.datetime(2024, 12, 1, 16, 24, 19, 219883)}, {'key': '7', 'time': datetime.datetime(2024, 12, 1, 16, 24, 19, 427600)}, {'key': '7', 'time': datetime.datetime(2024, 12, 1, 16, 24, 19, 627681)}, {'key': '7', 'time': datetime.datetime(2024, 12, 1, 16, 24, 19, 956081)}, {'key': '8', 'time': datetime.datetime(2024, 12, 1, 16, 24, 20, 283661)}, {'key': '8', 'time': datetime.datetime(2024, 12, 1, 16, 24, 20, 555809)}, {'key': '8', 'time': datetime.datetime(2024, 12, 1, 16, 24, 20, 787554)}, {'key': '8', 'time': datetime.datetime(2024, 12, 1, 16, 24, 21, 12054)}, {'key': '9', 'time': datetime.datetime(2024, 12, 1, 16, 24, 21, 428136)}, {'key': '9', 'time': datetime.datetime(2024, 12, 1, 16, 24, 21, 683611)}, {'key': '9', 'time': datetime.datetime(2024, 12, 1, 16, 24, 21, 955981)}, {'key': '9', 'time': datetime.datetime(2024, 12, 1, 16, 24, 22, 219770)}, {'key': '9', 'time': datetime.datetime(2024, 12, 1, 16, 24, 22, 491921)}, {'key': '8', 'time': datetime.datetime(2024, 12, 1, 16, 24, 22, 724190)}, {'key': '8', 'time': datetime.datetime(2024, 12, 1, 16, 24, 22, 964275)}, {'key': '7', 'time': datetime.datetime(2024, 12, 1, 16, 24, 23, 187721)}, {'key': '6', 'time': datetime.datetime(2024, 12, 1, 16, 24, 23, 404416)}, {'key': '7', 'time': datetime.datetime(2024, 12, 1, 16, 24, 23, 412420)}, {'key': '6', 'time': datetime.datetime(2024, 12, 1, 16, 24, 23, 636148)}, {'key': '5', 'time': datetime.datetime(2024, 12, 1, 16, 24, 23, 644150)}, {'key': '5', 'time': datetime.datetime(2024, 12, 1, 16, 24, 23, 844064)}, {'key': '5', 'time': datetime.datetime(2024, 12, 1, 16, 24, 24, 83807)}, {'key': '4', 'time': datetime.datetime(2024, 12, 1, 16, 24, 25, 28331)}, {'key': 'f', 'time': datetime.datetime(2024, 12, 1, 16, 24, 25, 531622)}, {'key': 'd', 'time': datetime.datetime(2024, 12, 1, 16, 24, 25, 684206)}, {'key': 's', 'time': datetime.datetime(2024, 12, 1, 16, 24, 25, 787766)}, {'key': 'f', 'time': datetime.datetime(2024, 12, 1, 16, 24, 26, 4472)}, {'key': 'd', 'time': datetime.datetime(2024, 12, 1, 16, 24, 26, 180243)}, {'key': 's', 'time': datetime.datetime(2024, 12, 1, 16, 24, 26, 204386)}, {'key': 'f', 'time': datetime.datetime(2024, 12, 1, 16, 24, 26, 364257)}, {'key': 's', 'time': datetime.datetime(2024, 12, 1, 16, 24, 26, 556201)}, {'key': 'd', 'time': datetime.datetime(2024, 12, 1, 16, 24, 26, 732112)}, {'key': 'f', 'time': datetime.datetime(2024, 12, 1, 16, 24, 26, 796127)}, {'key': 's', 'time': datetime.datetime(2024, 12, 1, 16, 24, 26, 947981)}, {'key': 'f', 'time': datetime.datetime(2024, 12, 1, 16, 24, 27, 139694)}, {'key': 'e', 'time': datetime.datetime(2024, 12, 1, 16, 24, 27, 299775)}, {'key': 'f', 'time': datetime.datetime(2024, 12, 1, 16, 24, 27, 507657)}, {'key': 'd', 'time': datetime.datetime(2024, 12, 1, 16, 24, 27, 644217)}, {'key': 's', 'time': datetime.datetime(2024, 12, 1, 16, 24, 27, 731837)}, {'key': 'f', 'time': datetime.datetime(2024, 12, 1, 16, 24, 27, 939578)}, {'key': 's', 'time': datetime.datetime(2024, 12, 1, 16, 24, 28, 291953)}, {'key': 'd', 'time': datetime.datetime(2024, 12, 1, 16, 24, 28, 532527)}, {'key': 'f', 'time': datetime.datetime(2024, 12, 1, 16, 24, 28, 652376)}, {'key': 'd', 'time': datetime.datetime(2024, 12, 1, 16, 24, 28, 852503)}, {'key': 'f', 'time': datetime.datetime(2024, 12, 1, 16, 24, 29, 20533)}, {'key': 's', 'time': datetime.datetime(2024, 12, 1, 16, 24, 29, 132559)}, {'key': 'd', 'time': datetime.datetime(2024, 12, 1, 16, 24, 29, 364615)}, {'key': 'f', 'time': datetime.datetime(2024, 12, 1, 16, 24, 29, 404624)}, {'key': 'f', 'time': datetime.datetime(2024, 12, 1, 16, 24, 30, 3855)}, {'key': 'd', 'time': datetime.datetime(2024, 12, 1, 16, 24, 30, 163893)}, {'key': 's', 'time': datetime.datetime(2024, 12, 1, 16, 24, 30, 236236)}, {'key': 'f', 'time': datetime.datetime(2024, 12, 1, 16, 24, 30, 508144)}, {'key': 's', 'time': datetime.datetime(2024, 12, 1, 16, 24, 30, 780248)}, {'key': 'f', 'time': datetime.datetime(2024, 12, 1, 16, 24, 30, 956289)}, {'key': 's', 'time': datetime.datetime(2024, 12, 1, 16, 24, 31, 140333)}, {'key': 'Lctrl', 'time': datetime.datetime(2024, 12, 1, 16, 24, 33, 692535)}, {'key': 'c', 'time': datetime.datetime(2024, 12, 1, 16, 24, 33, 971735)}]\n",
      "[{'key': 'a', 'time': datetime.datetime(2024, 12, 1, 16, 23, 25, 747109)}, {'key': 'b', 'time': datetime.datetime(2024, 12, 1, 16, 23, 26, 362888)}, {'key': 'c', 'time': datetime.datetime(2024, 12, 1, 16, 23, 26, 891134)}, {'key': 'd', 'time': datetime.datetime(2024, 12, 1, 16, 23, 27, 507704)}, {'key': 'e', 'time': datetime.datetime(2024, 12, 1, 16, 23, 27, 971362)}, {'key': 'f', 'time': datetime.datetime(2024, 12, 1, 16, 23, 28, 467856)}, {'key': 'g', 'time': datetime.datetime(2024, 12, 1, 16, 23, 29, 106957)}, {'key': 'h', 'time': datetime.datetime(2024, 12, 1, 16, 23, 30, 27894)}, {'key': 'i', 'time': datetime.datetime(2024, 12, 1, 16, 23, 30, 515035)}, {'key': 'j', 'time': datetime.datetime(2024, 12, 1, 16, 23, 30, 955257)}, {'key': 'k', 'time': datetime.datetime(2024, 12, 1, 16, 23, 31, 347058)}, {'key': 'l', 'time': datetime.datetime(2024, 12, 1, 16, 23, 31, 715748)}, {'key': 'm', 'time': datetime.datetime(2024, 12, 1, 16, 23, 32, 43640)}, {'key': 'n', 'time': datetime.datetime(2024, 12, 1, 16, 23, 32, 363406)}, {'key': 'o', 'time': datetime.datetime(2024, 12, 1, 16, 23, 32, 682996)}, {'key': 'p', 'time': datetime.datetime(2024, 12, 1, 16, 23, 32, 931389)}, {'key': 'q', 'time': datetime.datetime(2024, 12, 1, 16, 23, 33, 331945)}, {'key': 'r', 'time': datetime.datetime(2024, 12, 1, 16, 23, 33, 691822)}, {'key': 's', 'time': datetime.datetime(2024, 12, 1, 16, 23, 34, 3745)}, {'key': 't', 'time': datetime.datetime(2024, 12, 1, 16, 23, 34, 491807)}, {'key': 'u', 'time': datetime.datetime(2024, 12, 1, 16, 23, 34, 691564)}, {'key': 'v', 'time': datetime.datetime(2024, 12, 1, 16, 23, 34, 955453)}, {'key': 'w', 'time': datetime.datetime(2024, 12, 1, 16, 23, 35, 507569)}, {'key': 'x', 'time': datetime.datetime(2024, 12, 1, 16, 23, 36, 19686)}, {'key': 'y', 'time': datetime.datetime(2024, 12, 1, 16, 23, 36, 811385)}, {'key': 'z', 'time': datetime.datetime(2024, 12, 1, 16, 23, 37, 27646)}, {'key': 'Lshift', 'time': datetime.datetime(2024, 12, 1, 16, 23, 38, 219309)}, {'key': 'h', 'time': datetime.datetime(2024, 12, 1, 16, 23, 38, 603530)}, {'key': 'e', 'time': datetime.datetime(2024, 12, 1, 16, 23, 38, 787030)}, {'key': 'l', 'time': datetime.datetime(2024, 12, 1, 16, 23, 38, 891046)}, {'key': 'l', 'time': datetime.datetime(2024, 12, 1, 16, 23, 39, 35738)}, {'key': 'o', 'time': datetime.datetime(2024, 12, 1, 16, 23, 39, 179031)}, {'key': 'space', 'time': datetime.datetime(2024, 12, 1, 16, 23, 39, 275879)}, {'key': 'f', 'time': datetime.datetime(2024, 12, 1, 16, 23, 39, 347741)}, {'key': 'r', 'time': datetime.datetime(2024, 12, 1, 16, 23, 39, 491807)}, {'key': 'o', 'time': datetime.datetime(2024, 12, 1, 16, 23, 39, 579255)}, {'key': 'm', 'time': datetime.datetime(2024, 12, 1, 16, 23, 39, 731764)}, {'key': 'space', 'time': datetime.datetime(2024, 12, 1, 16, 23, 39, 875839)}, {'key': 't', 'time': datetime.datetime(2024, 12, 1, 16, 23, 40, 187933)}, {'key': 'h', 'time': datetime.datetime(2024, 12, 1, 16, 23, 40, 275955)}, {'key': 'e', 'time': datetime.datetime(2024, 12, 1, 16, 23, 40, 363894)}, {'key': 'space', 'time': datetime.datetime(2024, 12, 1, 16, 23, 40, 475755)}, {'key': 'o', 'time': datetime.datetime(2024, 12, 1, 16, 23, 40, 619622)}, {'key': 't', 'time': datetime.datetime(2024, 12, 1, 16, 23, 40, 779352)}, {'key': 'h', 'time': datetime.datetime(2024, 12, 1, 16, 23, 40, 859370)}, {'key': 'e', 'time': datetime.datetime(2024, 12, 1, 16, 23, 40, 907402)}, {'key': 'r', 'time': datetime.datetime(2024, 12, 1, 16, 23, 41, 3841)}, {'key': 'space', 'time': datetime.datetime(2024, 12, 1, 16, 23, 41, 107699)}, {'key': 's', 'time': datetime.datetime(2024, 12, 1, 16, 23, 41, 251360)}, {'key': 'i', 'time': datetime.datetime(2024, 12, 1, 16, 23, 41, 403479)}, {'key': 'z', 'time': datetime.datetime(2024, 12, 1, 16, 23, 41, 507339)}, {'key': 'e', 'time': datetime.datetime(2024, 12, 1, 16, 23, 41, 883138)}, {'key': 'space', 'time': datetime.datetime(2024, 12, 1, 16, 23, 42, 27223)}, {'key': 'o', 'time': datetime.datetime(2024, 12, 1, 16, 23, 42, 139513)}, {'key': 'k', 'time': datetime.datetime(2024, 12, 1, 16, 23, 42, 283547)}, {'key': 'a', 'time': datetime.datetime(2024, 12, 1, 16, 23, 42, 339551)}, {'key': 'y', 'time': datetime.datetime(2024, 12, 1, 16, 23, 42, 467864)}, {'key': 'Lshift', 'time': datetime.datetime(2024, 12, 1, 16, 23, 42, 603740)}, {'key': 'space', 'time': datetime.datetime(2024, 12, 1, 16, 23, 43, 499473)}, {'key': 'Lshift', 'time': datetime.datetime(2024, 12, 1, 16, 23, 43, 643087)}, {'key': 'i', 'time': datetime.datetime(2024, 12, 1, 16, 23, 43, 763802)}, {'key': 'space', 'time': datetime.datetime(2024, 12, 1, 16, 23, 43, 867827)}, {'key': 'w', 'time': datetime.datetime(2024, 12, 1, 16, 23, 43, 915883)}, {'key': 'a', 'time': datetime.datetime(2024, 12, 1, 16, 23, 44, 19500)}, {'key': 'n', 'time': datetime.datetime(2024, 12, 1, 16, 23, 44, 115532)}, {'key': 't', 'time': datetime.datetime(2024, 12, 1, 16, 23, 44, 211545)}, {'key': 'space', 'time': datetime.datetime(2024, 12, 1, 16, 23, 44, 307102)}, {'key': 't', 'time': datetime.datetime(2024, 12, 1, 16, 23, 44, 403751)}, {'key': 'y', 'time': datetime.datetime(2024, 12, 1, 16, 23, 44, 571249)}, {'key': 'backspace', 'time': datetime.datetime(2024, 12, 1, 16, 23, 44, 755544)}, {'key': 'backspace', 'time': datetime.datetime(2024, 12, 1, 16, 23, 44, 923251)}, {'key': 'y', 'time': datetime.datetime(2024, 12, 1, 16, 23, 45, 19129)}, {'key': 'o', 'time': datetime.datetime(2024, 12, 1, 16, 23, 45, 107546)}, {'key': 'u', 'time': datetime.datetime(2024, 12, 1, 16, 23, 45, 275837)}, {'key': 'space', 'time': datetime.datetime(2024, 12, 1, 16, 23, 45, 332267)}, {'key': 'n', 'time': datetime.datetime(2024, 12, 1, 16, 23, 45, 443432)}, {'key': 'o', 'time': datetime.datetime(2024, 12, 1, 16, 23, 45, 611420)}, {'key': 'w', 'time': datetime.datetime(2024, 12, 1, 16, 23, 45, 667958)}, {'key': 'space', 'time': datetime.datetime(2024, 12, 1, 16, 23, 45, 763123)}, {'key': 'b', 'time': datetime.datetime(2024, 12, 1, 16, 23, 46, 131669)}, {'key': 'b', 'time': datetime.datetime(2024, 12, 1, 16, 23, 46, 315214)}, {'key': 'g', 'time': datetime.datetime(2024, 12, 1, 16, 23, 46, 763864)}, {'key': 'y', 'time': datetime.datetime(2024, 12, 1, 16, 23, 47, 843667)}, {'key': 'o', 'time': datetime.datetime(2024, 12, 1, 16, 23, 47, 955966)}, {'key': 'u', 'time': datetime.datetime(2024, 12, 1, 16, 23, 48, 123238)}, {'key': 'space', 'time': datetime.datetime(2024, 12, 1, 16, 23, 48, 204257)}, {'key': 'a', 'time': datetime.datetime(2024, 12, 1, 16, 23, 48, 315743)}, {'key': 'r', 'time': datetime.datetime(2024, 12, 1, 16, 23, 48, 443608)}, {'key': 'e', 'time': datetime.datetime(2024, 12, 1, 16, 23, 48, 547241)}, {'key': 'space', 'time': datetime.datetime(2024, 12, 1, 16, 23, 48, 619525)}, {'key': 'p', 'time': datetime.datetime(2024, 12, 1, 16, 23, 48, 691169)}, {'key': 'r', 'time': datetime.datetime(2024, 12, 1, 16, 23, 48, 771712)}, {'key': 'e', 'time': datetime.datetime(2024, 12, 1, 16, 23, 48, 867460)}, {'key': 't', 'time': datetime.datetime(2024, 12, 1, 16, 23, 49, 43545)}, {'key': 't', 'time': datetime.datetime(2024, 12, 1, 16, 23, 49, 203583)}, {'key': 'y', 'time': datetime.datetime(2024, 12, 1, 16, 23, 49, 347536)}, {'key': 'space', 'time': datetime.datetime(2024, 12, 1, 16, 23, 49, 443183)}, {'key': 'c', 'time': datetime.datetime(2024, 12, 1, 16, 23, 49, 668031)}, {'key': 'o', 'time': datetime.datetime(2024, 12, 1, 16, 23, 49, 747867)}, {'key': 'o', 'time': datetime.datetime(2024, 12, 1, 16, 23, 49, 907905)}, {'key': 'l', 'time': datetime.datetime(2024, 12, 1, 16, 23, 50, 67334)}, {'key': 'space', 'time': datetime.datetime(2024, 12, 1, 16, 23, 50, 148353)}, {'key': 'l', 'time': datetime.datetime(2024, 12, 1, 16, 23, 50, 236418)}, {'key': 'o', 'time': datetime.datetime(2024, 12, 1, 16, 23, 50, 404136)}, {'key': 'o', 'time': datetime.datetime(2024, 12, 1, 16, 23, 50, 555465)}, {'key': 'k', 'time': datetime.datetime(2024, 12, 1, 16, 23, 50, 739516)}, {'key': 'i', 'time': datetime.datetime(2024, 12, 1, 16, 23, 50, 907565)}, {'key': 'n', 'time': datetime.datetime(2024, 12, 1, 16, 23, 51, 59294)}, {'key': 'g', 'time': datetime.datetime(2024, 12, 1, 16, 23, 51, 131728)}, {'key': 'space', 'time': datetime.datetime(2024, 12, 1, 16, 23, 51, 219749)}, {'key': 'a', 'time': datetime.datetime(2024, 12, 1, 16, 23, 51, 347854)}, {'key': 'n', 'time': datetime.datetime(2024, 12, 1, 16, 23, 51, 444086)}, {'key': 'd', 'time': datetime.datetime(2024, 12, 1, 16, 23, 51, 540360)}, {'key': 'space', 'time': datetime.datetime(2024, 12, 1, 16, 23, 51, 667926)}, {'key': 'Lshift', 'time': datetime.datetime(2024, 12, 1, 16, 23, 51, 748076)}, {'key': 'i', 'time': datetime.datetime(2024, 12, 1, 16, 23, 51, 828095)}, {'key': 'space', 'time': datetime.datetime(2024, 12, 1, 16, 23, 51, 932162)}, {'key': 'h', 'time': datetime.datetime(2024, 12, 1, 16, 23, 52, 507301)}, {'key': 'o', 'time': datetime.datetime(2024, 12, 1, 16, 23, 52, 564316)}, {'key': 'p', 'time': datetime.datetime(2024, 12, 1, 16, 23, 52, 699649)}, {'key': 'e', 'time': datetime.datetime(2024, 12, 1, 16, 23, 52, 779662)}, {'key': 'space', 'time': datetime.datetime(2024, 12, 1, 16, 23, 52, 867890)}, {'key': 't', 'time': datetime.datetime(2024, 12, 1, 16, 23, 52, 939907)}, {'key': 'h', 'time': datetime.datetime(2024, 12, 1, 16, 23, 53, 3922)}, {'key': 'i', 'time': datetime.datetime(2024, 12, 1, 16, 23, 53, 155678)}, {'key': 's', 'time': datetime.datetime(2024, 12, 1, 16, 23, 53, 203679)}, {'key': 'space', 'time': datetime.datetime(2024, 12, 1, 16, 23, 53, 315957)}, {'key': 'p', 'time': datetime.datetime(2024, 12, 1, 16, 23, 53, 411813)}, {'key': 'r', 'time': datetime.datetime(2024, 12, 1, 16, 23, 53, 483248)}, {'key': 'o', 'time': datetime.datetime(2024, 12, 1, 16, 23, 53, 603903)}, {'key': 'j', 'time': datetime.datetime(2024, 12, 1, 16, 23, 53, 779819)}, {'key': 'e', 'time': datetime.datetime(2024, 12, 1, 16, 23, 53, 859838)}, {'key': 'c', 'time': datetime.datetime(2024, 12, 1, 16, 23, 53, 995330)}, {'key': 't', 'time': datetime.datetime(2024, 12, 1, 16, 23, 54, 147408)}, {'key': 'space', 'time': datetime.datetime(2024, 12, 1, 16, 23, 54, 243431)}, {'key': 'w', 'time': datetime.datetime(2024, 12, 1, 16, 23, 54, 307446)}, {'key': 'o', 'time': datetime.datetime(2024, 12, 1, 16, 23, 54, 379758)}, {'key': 'r', 'time': datetime.datetime(2024, 12, 1, 16, 23, 54, 452191)}, {'key': 'k', 'time': datetime.datetime(2024, 12, 1, 16, 23, 54, 539212)}, {'key': 's', 'time': datetime.datetime(2024, 12, 1, 16, 23, 54, 611271)}, {'key': 'space', 'time': datetime.datetime(2024, 12, 1, 16, 23, 54, 715362)}, {'key': 'a', 'time': datetime.datetime(2024, 12, 1, 16, 23, 54, 827200)}, {'key': 'p', 'time': datetime.datetime(2024, 12, 1, 16, 23, 54, 947228)}, {'key': 'p', 'time': datetime.datetime(2024, 12, 1, 16, 23, 55, 91574)}, {'key': 'r', 'time': datetime.datetime(2024, 12, 1, 16, 23, 55, 164198)}, {'key': 'o', 'time': datetime.datetime(2024, 12, 1, 16, 23, 55, 268062)}, {'key': 'i', 'time': datetime.datetime(2024, 12, 1, 16, 23, 55, 531890)}, {'key': 'backspace', 'time': datetime.datetime(2024, 12, 1, 16, 23, 55, 780037)}, {'key': 'p', 'time': datetime.datetime(2024, 12, 1, 16, 23, 55, 979646)}, {'key': 'r', 'time': datetime.datetime(2024, 12, 1, 16, 23, 56, 340190)}, {'key': 'i', 'time': datetime.datetime(2024, 12, 1, 16, 23, 56, 435215)}, {'key': 'a', 'time': datetime.datetime(2024, 12, 1, 16, 23, 56, 516234)}, {'key': 't', 'time': datetime.datetime(2024, 12, 1, 16, 23, 56, 612030)}, {'key': 'e', 'time': datetime.datetime(2024, 12, 1, 16, 23, 56, 723893)}, {'key': 'l', 'time': datetime.datetime(2024, 12, 1, 16, 23, 56, 859926)}, {'key': 'y', 'time': datetime.datetime(2024, 12, 1, 16, 23, 57, 12242)}, {'key': 'enter', 'time': datetime.datetime(2024, 12, 1, 16, 23, 57, 171372)}, {'key': 's', 'time': datetime.datetime(2024, 12, 1, 16, 24, 1, 667722)}, {'key': 'a', 'time': datetime.datetime(2024, 12, 1, 16, 24, 1, 924337)}, {'key': 'd', 'time': datetime.datetime(2024, 12, 1, 16, 24, 1, 987352)}, {'key': 's', 'time': datetime.datetime(2024, 12, 1, 16, 24, 2, 35363)}, {'key': 'a', 'time': datetime.datetime(2024, 12, 1, 16, 24, 2, 196111)}, {'key': 's', 'time': datetime.datetime(2024, 12, 1, 16, 24, 2, 267375)}, {'key': 'w', 'time': datetime.datetime(2024, 12, 1, 16, 24, 2, 523438)}, {'key': 'd', 'time': datetime.datetime(2024, 12, 1, 16, 24, 2, 684002)}, {'key': 's', 'time': datetime.datetime(2024, 12, 1, 16, 24, 2, 843569)}, {'key': 'a', 'time': datetime.datetime(2024, 12, 1, 16, 24, 2, 923588)}, {'key': 'w', 'time': datetime.datetime(2024, 12, 1, 16, 24, 3, 155643)}, {'key': 'd', 'time': datetime.datetime(2024, 12, 1, 16, 24, 3, 339972)}, {'key': 'd', 'time': datetime.datetime(2024, 12, 1, 16, 24, 3, 771511)}, {'key': 'f', 'time': datetime.datetime(2024, 12, 1, 16, 24, 4, 11947)}, {'key': 'd', 'time': datetime.datetime(2024, 12, 1, 16, 24, 4, 395530)}, {'key': '3', 'time': datetime.datetime(2024, 12, 1, 16, 24, 4, 699696)}, {'key': '3', 'time': datetime.datetime(2024, 12, 1, 16, 24, 5, 35320)}, {'key': '3', 'time': datetime.datetime(2024, 12, 1, 16, 24, 5, 235368)}, {'key': '3', 'time': datetime.datetime(2024, 12, 1, 16, 24, 5, 435749)}, {'key': '3', 'time': datetime.datetime(2024, 12, 1, 16, 24, 5, 595777)}, {'key': '2', 'time': datetime.datetime(2024, 12, 1, 16, 24, 5, 811389)}, {'key': '2', 'time': datetime.datetime(2024, 12, 1, 16, 24, 6, 11895)}, {'key': '1', 'time': datetime.datetime(2024, 12, 1, 16, 24, 6, 340258)}, {'key': '1', 'time': datetime.datetime(2024, 12, 1, 16, 24, 6, 515761)}, {'key': '1', 'time': datetime.datetime(2024, 12, 1, 16, 24, 6, 667315)}, {'key': '4', 'time': datetime.datetime(2024, 12, 1, 16, 24, 7, 148321)}, {'key': '5', 'time': datetime.datetime(2024, 12, 1, 16, 24, 7, 356232)}, {'key': '5', 'time': datetime.datetime(2024, 12, 1, 16, 24, 7, 508128)}, {'key': '6', 'time': datetime.datetime(2024, 12, 1, 16, 24, 7, 708257)}, {'key': '7', 'time': datetime.datetime(2024, 12, 1, 16, 24, 7, 900216)}, {'key': '7', 'time': datetime.datetime(2024, 12, 1, 16, 24, 8, 75598)}, {'key': '8', 'time': datetime.datetime(2024, 12, 1, 16, 24, 8, 268178)}, {'key': '8', 'time': datetime.datetime(2024, 12, 1, 16, 24, 8, 468048)}, {'key': '8', 'time': datetime.datetime(2024, 12, 1, 16, 24, 8, 651574)}, {'key': '8', 'time': datetime.datetime(2024, 12, 1, 16, 24, 8, 779431)}, {'key': '7', 'time': datetime.datetime(2024, 12, 1, 16, 24, 8, 972141)}, {'key': '6', 'time': datetime.datetime(2024, 12, 1, 16, 24, 9, 171655)}, {'key': '5', 'time': datetime.datetime(2024, 12, 1, 16, 24, 9, 539454)}, {'key': '5', 'time': datetime.datetime(2024, 12, 1, 16, 24, 9, 747583)}, {'key': '5', 'time': datetime.datetime(2024, 12, 1, 16, 24, 9, 939665)}, {'key': '4', 'time': datetime.datetime(2024, 12, 1, 16, 24, 10, 171806)}, {'key': '4', 'time': datetime.datetime(2024, 12, 1, 16, 24, 10, 347847)}, {'key': '4', 'time': datetime.datetime(2024, 12, 1, 16, 24, 10, 507603)}, {'key': '4', 'time': datetime.datetime(2024, 12, 1, 16, 24, 10, 715806)}, {'key': '3', 'time': datetime.datetime(2024, 12, 1, 16, 24, 10, 715806)}, {'key': '3', 'time': datetime.datetime(2024, 12, 1, 16, 24, 10, 899803)}, {'key': '3', 'time': datetime.datetime(2024, 12, 1, 16, 24, 11, 99540)}, {'key': '3', 'time': datetime.datetime(2024, 12, 1, 16, 24, 11, 283825)}, {'key': '2', 'time': datetime.datetime(2024, 12, 1, 16, 24, 11, 460127)}, {'key': '2', 'time': datetime.datetime(2024, 12, 1, 16, 24, 11, 660259)}, {'key': '2', 'time': datetime.datetime(2024, 12, 1, 16, 24, 12, 60023)}, {'key': '3', 'time': datetime.datetime(2024, 12, 1, 16, 24, 12, 403606)}, {'key': '4', 'time': datetime.datetime(2024, 12, 1, 16, 24, 12, 779476)}, {'key': '5', 'time': datetime.datetime(2024, 12, 1, 16, 24, 12, 787492)}, {'key': '5', 'time': datetime.datetime(2024, 12, 1, 16, 24, 13, 4211)}, {'key': '5', 'time': datetime.datetime(2024, 12, 1, 16, 24, 13, 188442)}, {'key': '5', 'time': datetime.datetime(2024, 12, 1, 16, 24, 13, 403493)}, {'key': '5', 'time': datetime.datetime(2024, 12, 1, 16, 24, 13, 604146)}, {'key': '5', 'time': datetime.datetime(2024, 12, 1, 16, 24, 13, 835872)}, {'key': '4', 'time': datetime.datetime(2024, 12, 1, 16, 24, 13, 987908)}, {'key': '4', 'time': datetime.datetime(2024, 12, 1, 16, 24, 14, 187434)}, {'key': '4', 'time': datetime.datetime(2024, 12, 1, 16, 24, 14, 380314)}, {'key': '4', 'time': datetime.datetime(2024, 12, 1, 16, 24, 14, 588096)}, {'key': '4', 'time': datetime.datetime(2024, 12, 1, 16, 24, 16, 4424)}, {'key': '4', 'time': datetime.datetime(2024, 12, 1, 16, 24, 16, 323474)}, {'key': '4', 'time': datetime.datetime(2024, 12, 1, 16, 24, 16, 595987)}, {'key': '4', 'time': datetime.datetime(2024, 12, 1, 16, 24, 16, 875773)}, {'key': '5', 'time': datetime.datetime(2024, 12, 1, 16, 24, 17, 188192)}, {'key': '5', 'time': datetime.datetime(2024, 12, 1, 16, 24, 17, 443856)}, {'key': '5', 'time': datetime.datetime(2024, 12, 1, 16, 24, 17, 707541)}, {'key': '5', 'time': datetime.datetime(2024, 12, 1, 16, 24, 17, 947781)}, {'key': '6', 'time': datetime.datetime(2024, 12, 1, 16, 24, 18, 211908)}, {'key': '6', 'time': datetime.datetime(2024, 12, 1, 16, 24, 18, 468059)}, {'key': '6', 'time': datetime.datetime(2024, 12, 1, 16, 24, 18, 748426)}, {'key': '6', 'time': datetime.datetime(2024, 12, 1, 16, 24, 18, 948108)}, {'key': '7', 'time': datetime.datetime(2024, 12, 1, 16, 24, 19, 219883)}, {'key': '7', 'time': datetime.datetime(2024, 12, 1, 16, 24, 19, 427600)}, {'key': '7', 'time': datetime.datetime(2024, 12, 1, 16, 24, 19, 627681)}, {'key': '7', 'time': datetime.datetime(2024, 12, 1, 16, 24, 19, 956081)}, {'key': '8', 'time': datetime.datetime(2024, 12, 1, 16, 24, 20, 283661)}, {'key': '8', 'time': datetime.datetime(2024, 12, 1, 16, 24, 20, 555809)}, {'key': '8', 'time': datetime.datetime(2024, 12, 1, 16, 24, 20, 787554)}, {'key': '8', 'time': datetime.datetime(2024, 12, 1, 16, 24, 21, 12054)}, {'key': '9', 'time': datetime.datetime(2024, 12, 1, 16, 24, 21, 428136)}, {'key': '9', 'time': datetime.datetime(2024, 12, 1, 16, 24, 21, 683611)}, {'key': '9', 'time': datetime.datetime(2024, 12, 1, 16, 24, 21, 955981)}, {'key': '9', 'time': datetime.datetime(2024, 12, 1, 16, 24, 22, 219770)}, {'key': '9', 'time': datetime.datetime(2024, 12, 1, 16, 24, 22, 491921)}, {'key': '8', 'time': datetime.datetime(2024, 12, 1, 16, 24, 22, 724190)}, {'key': '8', 'time': datetime.datetime(2024, 12, 1, 16, 24, 22, 964275)}, {'key': '7', 'time': datetime.datetime(2024, 12, 1, 16, 24, 23, 187721)}, {'key': '6', 'time': datetime.datetime(2024, 12, 1, 16, 24, 23, 404416)}, {'key': '7', 'time': datetime.datetime(2024, 12, 1, 16, 24, 23, 412420)}, {'key': '6', 'time': datetime.datetime(2024, 12, 1, 16, 24, 23, 636148)}, {'key': '5', 'time': datetime.datetime(2024, 12, 1, 16, 24, 23, 644150)}, {'key': '5', 'time': datetime.datetime(2024, 12, 1, 16, 24, 23, 844064)}, {'key': '5', 'time': datetime.datetime(2024, 12, 1, 16, 24, 24, 83807)}, {'key': '4', 'time': datetime.datetime(2024, 12, 1, 16, 24, 25, 28331)}, {'key': 'f', 'time': datetime.datetime(2024, 12, 1, 16, 24, 25, 531622)}, {'key': 'd', 'time': datetime.datetime(2024, 12, 1, 16, 24, 25, 684206)}, {'key': 's', 'time': datetime.datetime(2024, 12, 1, 16, 24, 25, 787766)}, {'key': 'f', 'time': datetime.datetime(2024, 12, 1, 16, 24, 26, 4472)}, {'key': 'd', 'time': datetime.datetime(2024, 12, 1, 16, 24, 26, 180243)}, {'key': 's', 'time': datetime.datetime(2024, 12, 1, 16, 24, 26, 204386)}, {'key': 'f', 'time': datetime.datetime(2024, 12, 1, 16, 24, 26, 364257)}, {'key': 's', 'time': datetime.datetime(2024, 12, 1, 16, 24, 26, 556201)}, {'key': 'd', 'time': datetime.datetime(2024, 12, 1, 16, 24, 26, 732112)}, {'key': 'f', 'time': datetime.datetime(2024, 12, 1, 16, 24, 26, 796127)}, {'key': 's', 'time': datetime.datetime(2024, 12, 1, 16, 24, 26, 947981)}, {'key': 'f', 'time': datetime.datetime(2024, 12, 1, 16, 24, 27, 139694)}, {'key': 'e', 'time': datetime.datetime(2024, 12, 1, 16, 24, 27, 299775)}, {'key': 'f', 'time': datetime.datetime(2024, 12, 1, 16, 24, 27, 507657)}, {'key': 'd', 'time': datetime.datetime(2024, 12, 1, 16, 24, 27, 644217)}, {'key': 's', 'time': datetime.datetime(2024, 12, 1, 16, 24, 27, 731837)}, {'key': 'f', 'time': datetime.datetime(2024, 12, 1, 16, 24, 27, 939578)}, {'key': 's', 'time': datetime.datetime(2024, 12, 1, 16, 24, 28, 291953)}, {'key': 'd', 'time': datetime.datetime(2024, 12, 1, 16, 24, 28, 532527)}, {'key': 'f', 'time': datetime.datetime(2024, 12, 1, 16, 24, 28, 652376)}, {'key': 'd', 'time': datetime.datetime(2024, 12, 1, 16, 24, 28, 852503)}, {'key': 'f', 'time': datetime.datetime(2024, 12, 1, 16, 24, 29, 20533)}, {'key': 's', 'time': datetime.datetime(2024, 12, 1, 16, 24, 29, 132559)}, {'key': 'd', 'time': datetime.datetime(2024, 12, 1, 16, 24, 29, 364615)}, {'key': 'f', 'time': datetime.datetime(2024, 12, 1, 16, 24, 29, 404624)}, {'key': 'f', 'time': datetime.datetime(2024, 12, 1, 16, 24, 30, 3855)}, {'key': 'd', 'time': datetime.datetime(2024, 12, 1, 16, 24, 30, 163893)}, {'key': 's', 'time': datetime.datetime(2024, 12, 1, 16, 24, 30, 236236)}, {'key': 'f', 'time': datetime.datetime(2024, 12, 1, 16, 24, 30, 508144)}, {'key': 's', 'time': datetime.datetime(2024, 12, 1, 16, 24, 30, 780248)}, {'key': 'f', 'time': datetime.datetime(2024, 12, 1, 16, 24, 30, 956289)}, {'key': 's', 'time': datetime.datetime(2024, 12, 1, 16, 24, 31, 140333)}]\n"
     ]
    }
   ],
   "source": [
    "def getAudioTimestamps():\n",
    "    timestamps = []\n",
    "    for file in os.listdir(INPUT_AUDIO_DIR):\n",
    "        split_fn = file.split(\"-\")\n",
    "        split_fn[1] = split_fn[1][:-4] # Remove .wav extension\n",
    "        split_fn[0] = float(split_fn[0])\n",
    "        split_fn[1] = float(split_fn[1])\n",
    "        timestamps.append({\"start_time\": datetime.fromtimestamp(split_fn[0]), \"end_time\": datetime.fromtimestamp(split_fn[1])})\n",
    "    return(timestamps)\n",
    "\n",
    "def loadMetadata():\n",
    "    metadata = []\n",
    "    for file in os.listdir(INPUT_META_DIR):\n",
    "        with open(INPUT_META_DIR + file, \"r\") as file:\n",
    "            fdata = file.readlines()\n",
    "\n",
    "        for line in fdata:\n",
    "            line = line.strip(\"\\n\").split(\",\")\n",
    "            metadata.append({\"key\": line[0], \"time\": datetime.fromtimestamp(float(line[1]))})\n",
    "    return metadata\n",
    "\n",
    "# Remove keypresses keylogged outside of recording time\n",
    "def filterMetadata(audio_timestamps, metadata):\n",
    "    filtered_metadata = []\n",
    "    for mdata in metadata:\n",
    "        for audio_ts in audio_timestamps:\n",
    "            start_time = audio_ts[\"start_time\"]\n",
    "            end_time = audio_ts[\"end_time\"]\n",
    "            timestamp = mdata[\"time\"]\n",
    "            if start_time <= timestamp <= end_time:\n",
    "                filtered_metadata.append(mdata)\n",
    "    return filtered_metadata\n",
    "\n",
    "print(loadMetadata())\n",
    "print(filterMetadata(getAudioTimestamps(), loadMetadata()))"
   ]
  },
  {
   "cell_type": "markdown",
   "metadata": {},
   "source": [
    "## Preprocess Data"
   ]
  },
  {
   "cell_type": "code",
   "execution_count": null,
   "metadata": {},
   "outputs": [],
   "source": []
  },
  {
   "cell_type": "code",
   "execution_count": null,
   "metadata": {},
   "outputs": [],
   "source": []
  },
  {
   "cell_type": "markdown",
   "metadata": {},
   "source": [
    "## Convert Supplementary data to Dataset"
   ]
  },
  {
   "cell_type": "code",
   "execution_count": null,
   "metadata": {},
   "outputs": [
    {
     "data": {
      "text/plain": [
       "[{'start_time': datetime.datetime(2024, 12, 1, 16, 23, 48, 840918),\n",
       "  'end_time': datetime.datetime(2024, 12, 1, 16, 23, 50, 654815)},\n",
       " {'start_time': datetime.datetime(2024, 12, 1, 16, 24, 17, 209348),\n",
       "  'end_time': datetime.datetime(2024, 12, 1, 16, 24, 18, 944359)},\n",
       " {'start_time': datetime.datetime(2024, 12, 1, 16, 23, 34, 717905),\n",
       "  'end_time': datetime.datetime(2024, 12, 1, 16, 23, 36, 440883)},\n",
       " {'start_time': datetime.datetime(2024, 12, 1, 16, 24, 29, 608866),\n",
       "  'end_time': datetime.datetime(2024, 12, 1, 16, 24, 31, 344969)},\n",
       " {'start_time': datetime.datetime(2024, 12, 1, 16, 23, 57, 773402),\n",
       "  'end_time': datetime.datetime(2024, 12, 1, 16, 23, 59, 504849)},\n",
       " {'start_time': datetime.datetime(2024, 12, 1, 16, 23, 40, 41845),\n",
       "  'end_time': datetime.datetime(2024, 12, 1, 16, 23, 41, 780490)},\n",
       " {'start_time': datetime.datetime(2024, 12, 1, 16, 23, 25, 868043),\n",
       "  'end_time': datetime.datetime(2024, 12, 1, 16, 23, 27, 648627)},\n",
       " {'start_time': datetime.datetime(2024, 12, 1, 16, 24, 4, 836751),\n",
       "  'end_time': datetime.datetime(2024, 12, 1, 16, 24, 6, 568757)},\n",
       " {'start_time': datetime.datetime(2024, 12, 1, 16, 23, 55, 991866),\n",
       "  'end_time': datetime.datetime(2024, 12, 1, 16, 23, 57, 772565)},\n",
       " {'start_time': datetime.datetime(2024, 12, 1, 16, 23, 31, 199460),\n",
       "  'end_time': datetime.datetime(2024, 12, 1, 16, 23, 32, 981433)},\n",
       " {'start_time': datetime.datetime(2024, 12, 1, 16, 23, 32, 981921),\n",
       "  'end_time': datetime.datetime(2024, 12, 1, 16, 23, 34, 716849)},\n",
       " {'start_time': datetime.datetime(2024, 12, 1, 16, 23, 47, 113730),\n",
       "  'end_time': datetime.datetime(2024, 12, 1, 16, 23, 48, 840536)},\n",
       " {'start_time': datetime.datetime(2024, 12, 1, 16, 23, 36, 441217),\n",
       "  'end_time': datetime.datetime(2024, 12, 1, 16, 23, 38, 255076)},\n",
       " {'start_time': datetime.datetime(2024, 12, 1, 16, 23, 52, 437397),\n",
       "  'end_time': datetime.datetime(2024, 12, 1, 16, 23, 54, 173186)},\n",
       " {'start_time': datetime.datetime(2024, 12, 1, 16, 24, 15, 443436),\n",
       "  'end_time': datetime.datetime(2024, 12, 1, 16, 24, 17, 209181)},\n",
       " {'start_time': datetime.datetime(2024, 12, 1, 16, 24, 26, 10004),\n",
       "  'end_time': datetime.datetime(2024, 12, 1, 16, 24, 27, 826516)},\n",
       " {'start_time': datetime.datetime(2024, 12, 1, 16, 24, 3, 54532),\n",
       "  'end_time': datetime.datetime(2024, 12, 1, 16, 24, 4, 836509)},\n",
       " {'start_time': datetime.datetime(2024, 12, 1, 16, 24, 22, 541447),\n",
       "  'end_time': datetime.datetime(2024, 12, 1, 16, 24, 24, 277032)},\n",
       " {'start_time': datetime.datetime(2024, 12, 1, 16, 23, 43, 596030),\n",
       "  'end_time': datetime.datetime(2024, 12, 1, 16, 23, 45, 372106)},\n",
       " {'start_time': datetime.datetime(2024, 12, 1, 16, 23, 29, 385112),\n",
       "  'end_time': datetime.datetime(2024, 12, 1, 16, 23, 31, 199148)},\n",
       " {'start_time': datetime.datetime(2024, 12, 1, 16, 23, 41, 781068),\n",
       "  'end_time': datetime.datetime(2024, 12, 1, 16, 23, 43, 594830)},\n",
       " {'start_time': datetime.datetime(2024, 12, 1, 16, 23, 24, 102743),\n",
       "  'end_time': datetime.datetime(2024, 12, 1, 16, 23, 25, 866561)},\n",
       " {'start_time': datetime.datetime(2024, 12, 1, 16, 24, 24, 277558),\n",
       "  'end_time': datetime.datetime(2024, 12, 1, 16, 24, 26, 9285)},\n",
       " {'start_time': datetime.datetime(2024, 12, 1, 16, 24, 8, 383203),\n",
       "  'end_time': datetime.datetime(2024, 12, 1, 16, 24, 10, 157229)},\n",
       " {'start_time': datetime.datetime(2024, 12, 1, 16, 24, 1, 241319),\n",
       "  'end_time': datetime.datetime(2024, 12, 1, 16, 24, 3, 54294)},\n",
       " {'start_time': datetime.datetime(2024, 12, 1, 16, 24, 11, 892997),\n",
       "  'end_time': datetime.datetime(2024, 12, 1, 16, 24, 13, 628708)},\n",
       " {'start_time': datetime.datetime(2024, 12, 1, 16, 23, 50, 655989),\n",
       "  'end_time': datetime.datetime(2024, 12, 1, 16, 23, 52, 436872)},\n",
       " {'start_time': datetime.datetime(2024, 12, 1, 16, 23, 59, 505404),\n",
       "  'end_time': datetime.datetime(2024, 12, 1, 16, 24, 1, 241077)},\n",
       " {'start_time': datetime.datetime(2024, 12, 1, 16, 24, 18, 944497),\n",
       "  'end_time': datetime.datetime(2024, 12, 1, 16, 24, 20, 758582)},\n",
       " {'start_time': datetime.datetime(2024, 12, 1, 16, 23, 27, 648881),\n",
       "  'end_time': datetime.datetime(2024, 12, 1, 16, 23, 29, 384869)},\n",
       " {'start_time': datetime.datetime(2024, 12, 1, 16, 24, 13, 629251),\n",
       "  'end_time': datetime.datetime(2024, 12, 1, 16, 24, 15, 442879)},\n",
       " {'start_time': datetime.datetime(2024, 12, 1, 16, 24, 31, 345107),\n",
       "  'end_time': datetime.datetime(2024, 12, 1, 16, 24, 33, 159263)},\n",
       " {'start_time': datetime.datetime(2024, 12, 1, 16, 24, 27, 826660),\n",
       "  'end_time': datetime.datetime(2024, 12, 1, 16, 24, 29, 608726)},\n",
       " {'start_time': datetime.datetime(2024, 12, 1, 16, 23, 54, 174126),\n",
       "  'end_time': datetime.datetime(2024, 12, 1, 16, 23, 55, 990344)},\n",
       " {'start_time': datetime.datetime(2024, 12, 1, 16, 24, 6, 568987),\n",
       "  'end_time': datetime.datetime(2024, 12, 1, 16, 24, 8, 382977)},\n",
       " {'start_time': datetime.datetime(2024, 12, 1, 16, 23, 45, 373079),\n",
       "  'end_time': datetime.datetime(2024, 12, 1, 16, 23, 47, 113243)},\n",
       " {'start_time': datetime.datetime(2024, 12, 1, 16, 24, 10, 157839),\n",
       "  'end_time': datetime.datetime(2024, 12, 1, 16, 24, 11, 892417)},\n",
       " {'start_time': datetime.datetime(2024, 12, 1, 16, 23, 38, 256221),\n",
       "  'end_time': datetime.datetime(2024, 12, 1, 16, 23, 40, 41245)},\n",
       " {'start_time': datetime.datetime(2024, 12, 1, 16, 24, 20, 758722),\n",
       "  'end_time': datetime.datetime(2024, 12, 1, 16, 24, 22, 540842)}]"
      ]
     },
     "execution_count": 27,
     "metadata": {},
     "output_type": "execute_result"
    }
   ],
   "source": []
  },
  {
   "cell_type": "markdown",
   "metadata": {},
   "source": [
    "## Save new dataset"
   ]
  },
  {
   "cell_type": "code",
   "execution_count": null,
   "metadata": {},
   "outputs": [],
   "source": []
  }
 ],
 "metadata": {
  "kernelspec": {
   "display_name": "cs528-autokeras",
   "language": "python",
   "name": "python3"
  },
  "language_info": {
   "codemirror_mode": {
    "name": "ipython",
    "version": 3
   },
   "file_extension": ".py",
   "mimetype": "text/x-python",
   "name": "python",
   "nbconvert_exporter": "python",
   "pygments_lexer": "ipython3",
   "version": "3.10.14"
  }
 },
 "nbformat": 4,
 "nbformat_minor": 2
}
