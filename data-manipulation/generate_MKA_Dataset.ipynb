{
 "cells": [
  {
   "cell_type": "code",
   "execution_count": 1,
   "metadata": {},
   "outputs": [
    {
     "name": "stderr",
     "output_type": "stream",
     "text": [
      "2024-12-01 21:31:50.162187: E external/local_xla/xla/stream_executor/cuda/cuda_fft.cc:485] Unable to register cuFFT factory: Attempting to register factory for plugin cuFFT when one has already been registered\n",
      "2024-12-01 21:31:50.175792: E external/local_xla/xla/stream_executor/cuda/cuda_dnn.cc:8454] Unable to register cuDNN factory: Attempting to register factory for plugin cuDNN when one has already been registered\n",
      "2024-12-01 21:31:50.180031: E external/local_xla/xla/stream_executor/cuda/cuda_blas.cc:1452] Unable to register cuBLAS factory: Attempting to register factory for plugin cuBLAS when one has already been registered\n",
      "2024-12-01 21:31:50.190886: I tensorflow/core/platform/cpu_feature_guard.cc:210] This TensorFlow binary is optimized to use available CPU instructions in performance-critical operations.\n",
      "To enable the following instructions: AVX2 FMA, in other operations, rebuild TensorFlow with the appropriate compiler flags.\n",
      "2024-12-01 21:31:52.114739: W tensorflow/compiler/tf2tensorrt/utils/py_utils.cc:38] TF-TRT Warning: Could not find TensorRT\n",
      "WARNING: All log messages before absl::InitializeLog() is called are written to STDERR\n",
      "I0000 00:00:1733113914.928538  506318 cuda_executor.cc:1015] successful NUMA node read from SysFS had negative value (-1), but there must be at least one NUMA node, so returning NUMA node zero. See more at https://github.com/torvalds/linux/blob/v6.0/Documentation/ABI/testing/sysfs-bus-pci#L344-L355\n",
      "I0000 00:00:1733113914.930175  506318 cuda_executor.cc:1015] successful NUMA node read from SysFS had negative value (-1), but there must be at least one NUMA node, so returning NUMA node zero. See more at https://github.com/torvalds/linux/blob/v6.0/Documentation/ABI/testing/sysfs-bus-pci#L344-L355\n",
      "I0000 00:00:1733113914.954156  506318 cuda_executor.cc:1015] successful NUMA node read from SysFS had negative value (-1), but there must be at least one NUMA node, so returning NUMA node zero. See more at https://github.com/torvalds/linux/blob/v6.0/Documentation/ABI/testing/sysfs-bus-pci#L344-L355\n",
      "I0000 00:00:1733113914.955714  506318 cuda_executor.cc:1015] successful NUMA node read from SysFS had negative value (-1), but there must be at least one NUMA node, so returning NUMA node zero. See more at https://github.com/torvalds/linux/blob/v6.0/Documentation/ABI/testing/sysfs-bus-pci#L344-L355\n",
      "I0000 00:00:1733113914.956676  506318 cuda_executor.cc:1015] successful NUMA node read from SysFS had negative value (-1), but there must be at least one NUMA node, so returning NUMA node zero. See more at https://github.com/torvalds/linux/blob/v6.0/Documentation/ABI/testing/sysfs-bus-pci#L344-L355\n",
      "I0000 00:00:1733113914.958156  506318 cuda_executor.cc:1015] successful NUMA node read from SysFS had negative value (-1), but there must be at least one NUMA node, so returning NUMA node zero. See more at https://github.com/torvalds/linux/blob/v6.0/Documentation/ABI/testing/sysfs-bus-pci#L344-L355\n",
      "I0000 00:00:1733113915.365941  506318 cuda_executor.cc:1015] successful NUMA node read from SysFS had negative value (-1), but there must be at least one NUMA node, so returning NUMA node zero. See more at https://github.com/torvalds/linux/blob/v6.0/Documentation/ABI/testing/sysfs-bus-pci#L344-L355\n",
      "I0000 00:00:1733113915.367063  506318 cuda_executor.cc:1015] successful NUMA node read from SysFS had negative value (-1), but there must be at least one NUMA node, so returning NUMA node zero. See more at https://github.com/torvalds/linux/blob/v6.0/Documentation/ABI/testing/sysfs-bus-pci#L344-L355\n",
      "I0000 00:00:1733113915.368009  506318 cuda_executor.cc:1015] successful NUMA node read from SysFS had negative value (-1), but there must be at least one NUMA node, so returning NUMA node zero. See more at https://github.com/torvalds/linux/blob/v6.0/Documentation/ABI/testing/sysfs-bus-pci#L344-L355\n",
      "I0000 00:00:1733113915.530247  506318 cuda_executor.cc:1015] successful NUMA node read from SysFS had negative value (-1), but there must be at least one NUMA node, so returning NUMA node zero. See more at https://github.com/torvalds/linux/blob/v6.0/Documentation/ABI/testing/sysfs-bus-pci#L344-L355\n",
      "I0000 00:00:1733113915.532931  506318 cuda_executor.cc:1015] successful NUMA node read from SysFS had negative value (-1), but there must be at least one NUMA node, so returning NUMA node zero. See more at https://github.com/torvalds/linux/blob/v6.0/Documentation/ABI/testing/sysfs-bus-pci#L344-L355\n",
      "I0000 00:00:1733113915.533882  506318 cuda_executor.cc:1015] successful NUMA node read from SysFS had negative value (-1), but there must be at least one NUMA node, so returning NUMA node zero. See more at https://github.com/torvalds/linux/blob/v6.0/Documentation/ABI/testing/sysfs-bus-pci#L344-L355\n",
      "2024-12-01 21:31:55.534798: I tensorflow/core/common_runtime/gpu/gpu_device.cc:2021] Created device /job:localhost/replica:0/task:0/device:GPU:0 with 72005 MB memory:  -> device: 1, name: NVIDIA A100 80GB PCIe, pci bus id: 0000:c1:00.0, compute capability: 8.0\n"
     ]
    }
   ],
   "source": [
    "import tensorflow as tf\n",
    "\n",
    "gpus = tf.config.experimental.list_physical_devices('GPU')\n",
    "tf.config.experimental.set_visible_devices(gpus[1], 'GPU')\n",
    "tf.config.experimental.set_memory_growth(gpus[1], True)\n",
    "\n",
    "AUTOTUNE = tf.data.AUTOTUNE\n",
    "\n",
    "import os\n",
    "from datetime import datetime\n",
    "import matplotlib.pyplot as plt\n",
    "import sys\n",
    "\n",
    "sys.path.insert(0, '../training')\n",
    "from shared_funcs import multi_label_binary_encode_tensor, multi_label_binary_decode_tensor, get_waveform, split_into_windows, split_into_sequences "
   ]
  },
  {
   "cell_type": "code",
   "execution_count": 2,
   "metadata": {},
   "outputs": [],
   "source": [
    "ALL_LABELS = tf.constant(['Rctrl', 'p', 'esc', 'g', 'slash', 'down', '7', 'equal', 'w', 'a', 'dash', 'caps', 'l', 'd', 'backspace', 'bracketclose', 'z', '1', 'end', 'Rshift', 'comma', 'c', 'tab', 'b', 'j', 'right', 'Lctrl', 'n', 't', 'f', 'm', 'o', 'apostrophe', 'y', '8', 'space', 'backslash', 's', '9', 'i', 'r', 'bracketopen', 'semicolon', 'q', '5', 'k', '3', 'x', '4', '6', '2', 'Lshift', 'left', 'backtick', 'enter', 'fullstop', 'e', '0', 'h', 'v', 'up', 'u', 'delete'], dtype=tf.string)"
   ]
  },
  {
   "cell_type": "code",
   "execution_count": 3,
   "metadata": {},
   "outputs": [],
   "source": [
    "def get_MKA_waveforms_and_labels():\n",
    "    datasetPath = os.path.dirname(os.getcwd()) + \"/data-manipulation/MKA datasets\"\n",
    "    # excluded_classes = [\"start\", \"menu\", \"pgdn\", \"pgup\", \"home\", \"neshanay xwarawa\", \"neshanay sarawa\", \"neshanay lay rast\", \"neshanay lay chap\", \"fn\", \"cmd\", 'altL', 'altR', 'lcmd', 'Lalt']\n",
    "\n",
    "    mkaWaveforms= []\n",
    "    mkaLabels= []\n",
    "    unique_cases = []\n",
    "\n",
    "    for manufacturer in os.listdir(datasetPath):\n",
    "        wavChildFolderPath = datasetPath + \"/\" + manufacturer + \"/Sound Segment(wav)\"\n",
    "        caseFolders = os.listdir(wavChildFolderPath)\n",
    "        \n",
    "        for case in caseFolders:\n",
    "            if tf.reduce_any(tf.equal(ALL_LABELS, case)):\n",
    "                for file in os.listdir(wavChildFolderPath + \"/\" + case):\n",
    "                    wf = get_waveform(wavChildFolderPath + \"/\" + case + \"/\" + file)\n",
    "                    mkaWaveforms.append(wf)\n",
    "                    mkaLabels.append(case)\n",
    "                    # print(wavChildFolderPath + \"/\" + case + \"/\" + file)\n",
    "                \n",
    "                if case not in unique_cases:\n",
    "                    unique_cases.append(case)\n",
    "    \n",
    "    if len(mkaWaveforms) != len(mkaLabels):\n",
    "        print(\"Filepaths and Labels do not match\")\n",
    "        return None, None\n",
    "\n",
    "    print(\"Cases: \", unique_cases)\n",
    "    return mkaWaveforms, mkaLabels\n",
    "\n",
    "# Filters out frames with insignificant signals and labels them as \"no_keypress\".\n",
    "def filter_insignificant_frames(frames, labels, threshold=0.05):\n",
    "    # Compute the max amplitude for each frame\n",
    "    frame_amplitudes = tf.reduce_max(tf.abs(frames), axis=-1)\n",
    "\n",
    "    # Identify frames with insignificant signals\n",
    "    insignificant_mask = frame_amplitudes <= threshold\n",
    "\n",
    "    # Assign \"no_keypress\" to insignificant frames\n",
    "    no_keypress_label = tf.zeros_like(labels[0], dtype=labels.dtype)\n",
    "\n",
    "    # Assign all-zero binary tensor to insignificant frames\n",
    "    labels = tf.where(insignificant_mask[:, tf.newaxis], no_keypress_label, labels)\n",
    "    \n",
    "    return frames, labels\n",
    "\n",
    "# Split and label data according to 50ms sample amplitude on clean data\n",
    "def preprocess_waveform_and_label(waveform, label, threshold=0.05):\n",
    "\n",
    "    tf.debugging.assert_equal(\n",
    "        tf.shape(waveform)[0], \n",
    "        tf.constant(44100, dtype=tf.int32),\n",
    "        message=\"Waveform must have 44100 samples\"\n",
    "    )\n",
    "\n",
    "    # Split waveform into frames\n",
    "    frames = split_into_windows(waveform)\n",
    "\n",
    "    # Detect keypress in each frame\n",
    "    def detect_keypress(frame):\n",
    "        return tf.reduce_max(tf.abs(frame)) > threshold\n",
    "\n",
    "    keypress_mask = tf.map_fn(\n",
    "        detect_keypress,\n",
    "        frames,\n",
    "        fn_output_signature=tf.bool\n",
    "    )\n",
    "\n",
    "    # Assign labels per frame\n",
    "    binary_label = multi_label_binary_encode_tensor(label)  # Binary tensor for the given label\n",
    "    labels = tf.where(\n",
    "        keypress_mask[:, tf.newaxis],  # Broadcast the mask to match binary_label dimensions\n",
    "        tf.tile(binary_label[tf.newaxis, :], [keypress_mask.shape[0], 1]),  # Tile the binary label for all frames\n",
    "        tf.zeros((keypress_mask.shape[0], len(ALL_LABELS)), dtype=tf.int32)  # All-zero tensor for no_keypress\n",
    "    )\n",
    "\n",
    "    # Relabel insignificant frames as \"no_keypress\"\n",
    "    frames, labels = filter_insignificant_frames(frames, labels, threshold=0.15)\n",
    "\n",
    "    # Create sequence of 5 frames for temporal differences\n",
    "    frame_sequences = split_into_sequences(frames, 3)\n",
    "    label_sequences = split_into_sequences(labels, 3)\n",
    "\n",
    "    # Debugging\n",
    "    print(\"Frames shape:\", frame_sequences.shape)\n",
    "    print(\"Labels shape:\", label_sequences.shape)\n",
    "\n",
    "    return frame_sequences, label_sequences"
   ]
  },
  {
   "cell_type": "code",
   "execution_count": 4,
   "metadata": {},
   "outputs": [
    {
     "name": "stdout",
     "output_type": "stream",
     "text": [
      "Cases:  ['Rctrl', 'p', 'esc', 'g', 'slash', 'down', '7', 'equal', 'w', 'a', 'dash', 'caps', 'l', 'd', 'backspace', 'bracketclose', 'z', '1', 'end', 'Rshift', 'comma', 'c', 'tab', 'b', 'j', 'right', 'Lctrl', 'n', 't', 'f', 'm', 'o', 'apostrophe', 'y', '8', 'space', 'backslash', 's', '9', 'i', 'r', 'bracketopen', 'semicolon', 'q', '5', 'k', '3', 'x', '4', '6', '2', 'Lshift', 'left', 'backtick', 'enter', 'fullstop', 'e', '0', 'h', 'v', 'up', 'u', 'delete']\n",
      "Frames shape: (37, 3, 2205)\n",
      "Labels shape: (37, 3, 63)\n"
     ]
    },
    {
     "data": {
      "text/plain": [
       "<CacheDataset element_spec=(TensorSpec(shape=(3, 2205), dtype=tf.float32, name=None), TensorSpec(shape=(3, 63), dtype=tf.int32, name=None))>"
      ]
     },
     "execution_count": 4,
     "metadata": {},
     "output_type": "execute_result"
    }
   ],
   "source": [
    "# Load MKA\n",
    "mka_waveforms, mka_labels = get_MKA_waveforms_and_labels()\n",
    "\n",
    "# Verify length of audios is 1 second at 44100 Hz\n",
    "for i, tr_f in enumerate(mka_waveforms):\n",
    "    num_samples = tf.shape(tr_f)[0]  # Length along the first dimension (number of samples)\n",
    "    # num_channels = tf.shape(tr_f)[1] # Length along the second dimension (number of channels)\n",
    "    if (num_samples != 44100):\n",
    "        print(f\"Waveform {i}: num_samples = {num_samples}\")\n",
    "\n",
    "# Map the preprocessing function to the dataset\n",
    "mka_waveform_and_label_ds = tf.data.Dataset.from_tensor_slices((mka_waveforms, mka_labels))\n",
    "\n",
    "mka_dataset = mka_waveform_and_label_ds.map(\n",
    "    lambda waveform, label: tf.data.Dataset.from_tensor_slices(preprocess_waveform_and_label(waveform, label)),\n",
    "    num_parallel_calls=tf.data.AUTOTUNE\n",
    ").flat_map(lambda x: x)\n",
    "\n",
    "mka_dataset.cache()"
   ]
  },
  {
   "cell_type": "code",
   "execution_count": 5,
   "metadata": {},
   "outputs": [],
   "source": [
    "path = os.path.dirname(os.getcwd()) + \"/data-manipulation/mka_dataset\"\n",
    "\n",
    "mka_dataset.save(path)"
   ]
  },
  {
   "cell_type": "code",
   "execution_count": null,
   "metadata": {},
   "outputs": [],
   "source": []
  }
 ],
 "metadata": {
  "kernelspec": {
   "display_name": "cs528-autokeras",
   "language": "python",
   "name": "python3"
  },
  "language_info": {
   "codemirror_mode": {
    "name": "ipython",
    "version": 3
   },
   "file_extension": ".py",
   "mimetype": "text/x-python",
   "name": "python",
   "nbconvert_exporter": "python",
   "pygments_lexer": "ipython3",
   "version": "3.10.14"
  }
 },
 "nbformat": 4,
 "nbformat_minor": 2
}
