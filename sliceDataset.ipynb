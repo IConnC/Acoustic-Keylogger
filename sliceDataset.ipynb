{
 "cells": [
  {
   "cell_type": "code",
   "execution_count": null,
   "metadata": {},
   "outputs": [],
   "source": [
    "import os"
   ]
  },
  {
   "cell_type": "markdown",
   "metadata": {},
   "source": [
    "## Define functions"
   ]
  },
  {
   "cell_type": "code",
   "execution_count": null,
   "metadata": {},
   "outputs": [],
   "source": [
    "\n",
    "def get_MKA_filepaths_and_labels():\n",
    "    datasetPath = \"./MKA datasets\"\n",
    "\n",
    "    excluded_classes = [\"start\", \"menu\", \"pgdn\", \"pgup\", \"delete\", \"home\", \"neshanay xwarawa\", \"neshanay sarawa\", \"neshanay lay rast\", \"neshanay lay chap\", \"caps\"]\n",
    "\n",
    "    mkaFilepaths= []\n",
    "    mkaLabels= []\n",
    "\n",
    "    for manufacturer in os.listdir(datasetPath):\n",
    "        wavChildFolderPath = datasetPath + \"/\" + manufacturer + \"/Sound Segment(wav)\"\n",
    "        caseFolders = os.listdir(wavChildFolderPath)\n",
    "        \n",
    "        for case in caseFolders:\n",
    "            if case not in excluded_classes:\n",
    "                for file in os.listdir(wavChildFolderPath + \"/\" + case):\n",
    "                    mkaWaveforms.append(wavChildFolderPath + \"/\" + case + \"/\" + file)\n",
    "                    mkaLabels.append(case)\n",
    "\n",
    "    if len(mkaWaveforms) != len(mkaLabels):\n",
    "        print(\"Filepaths and Labels do not match\")\n",
    "        return None, None\n",
    "    \n",
    "    return mkaFilepaths, mkaLabels"
   ]
  },
  {
   "cell_type": "code",
   "execution_count": null,
   "metadata": {},
   "outputs": [],
   "source": []
  },
  {
   "cell_type": "markdown",
   "metadata": {},
   "source": [
    "## Save new dataset"
   ]
  },
  {
   "cell_type": "code",
   "execution_count": null,
   "metadata": {},
   "outputs": [],
   "source": []
  }
 ],
 "metadata": {
  "kernelspec": {
   "display_name": "cs528-autokeras",
   "language": "python",
   "name": "python3"
  },
  "language_info": {
   "name": "python",
   "version": "3.10.14"
  }
 },
 "nbformat": 4,
 "nbformat_minor": 2
}
